{
  "cells": [
    {
      "cell_type": "markdown",
      "metadata": {},
      "source": [
        "\n# Multilabel classification with FRONEC\n\nThe figures contain training instances within a section of the feature space.\nThe training instances are coloured according to their true labels,\nwhile the feature space is coloured according to predictions on the basis of the training instances,\nmaking the decision boundaries visible.\n\nThere are three labels, encoded by the colours red, blue and yellow,\nwhile green means both blue and yellow, and white means no label.\n\nIn total, six subfigures are displayed, to illustrate the effect of the `Q_type` and `R_d_type` parameters.\n"
      ]
    },
    {
      "cell_type": "code",
      "execution_count": null,
      "metadata": {
        "collapsed": false
      },
      "outputs": [],
      "source": [
        "print(__doc__)\n\nimport numpy as np\nimport matplotlib.pyplot as plt\nfrom matplotlib.colors import BoundaryNorm, ListedColormap\nfrom sklearn import datasets\n\nfrom frlearn.base import discretise\nfrom frlearn.classifiers import FRONEC\n\n# Import example data, reduce to 2 dimensions and manipulate to create multilabel problem.\niris = datasets.load_iris()\nX = iris.data[:, :2]\ny = iris.target\nY = (y[:, None] == np.arange(3)).astype(int)\nY[[109, 117, 131], 2] = 0\nY[((X[:, 0] >= 6) & (y == 1)), 2] = 1\nY[((X[:, 0] <= 6) & (y == 2)), 1] = 1\n\n# Create a mesh of points in the attribute space.\nstep_size = .1\nx_min, x_max = X[:, 0].min() - 1, X[:, 0].max() + 1\ny_min, y_max = X[:, 1].min() - 1, X[:, 1].max() + 1\nxx, yy = np.meshgrid(np.arange(x_min, x_max, step_size), np.arange(y_min, y_max, step_size))\n\n# Define light and dark colour maps for label combinations.\nlight_colours = ['#FFFFFF', '#FF8080', '#8080FF', '#C080C0', '#FFFF80', '#FFC080', '#80C080', '#C0C0C0']\nlight_cmap = ListedColormap(light_colours)\ndark_colours = ['#FFFFFF', '#FF0000', '#0000FF', '#800080', '#FFFF00', '#FF8000', '#008000', '#808080']\ndark_cmap = ListedColormap(dark_colours)\nnorm = BoundaryNorm(np.arange(9), 8)\n\n# Initialise figure with wide aspect for two side-by-side subfigures.\nplt.figure(figsize=(8, 4))\n\nfor i, R_d_type in enumerate([1, 2]):\n    for j, Q_type in enumerate([1, 2, 3]):\n        axes = plt.subplot(2, 3, i*3 + j + 1)\n\n        # Create an instance of the FRONEC classifier and construct the model.\n        clf = FRONEC(k=10, Q_type=Q_type, R_d_type=R_d_type)\n        model = clf(X, Y)\n\n        # Query mesh points to obtain label values and convert into discrete predictions.\n        Z = model(np.c_[xx.ravel(), yy.ravel()])\n        Z = discretise(Z)\n\n        # Encode label combinations as unique numbers, reshape into mesh and plot with light colour map.\n        Z = np.sum(Z * [1, 2, 4], axis=-1)\n        Z = Z.reshape(xx.shape)\n        plt.pcolormesh(xx, yy, Z, cmap=light_cmap, norm=norm)\n\n        # Encode training instance label combinations as unique numbers and plot.\n        C = np.sum(Y * [1, 2, 4], axis=-1)\n        plt.scatter(X[:, 0], X[:, 1], c=C, cmap=dark_cmap, norm=norm, edgecolor='k', s=20)\n\n        # Set subplot aspect to standard aspect ratio.\n        axes.set_aspect(1.0 / axes.get_data_ratio() * .75)\n\n        # Set plot dimensions.\n        plt.xlim(xx.min(), xx.max())\n        plt.ylim(yy.min(), yy.max())\n\n        # Describe columns and rows.\n        if axes.is_first_col():\n            plt.ylabel('R_d^{}'.format(R_d_type), rotation=0, size='large', ha='right')\n        if axes.is_first_row():\n            plt.title('Q^{}'.format(Q_type))\n\nplt.tight_layout()\nplt.show()"
      ]
    }
  ],
  "metadata": {
    "kernelspec": {
      "display_name": "Python 3",
      "language": "python",
      "name": "python3"
    },
    "language_info": {
      "codemirror_mode": {
        "name": "ipython",
        "version": 3
      },
      "file_extension": ".py",
      "mimetype": "text/x-python",
      "name": "python",
      "nbconvert_exporter": "python",
      "pygments_lexer": "ipython3",
      "version": "3.8.0"
    }
  },
  "nbformat": 4,
  "nbformat_minor": 0
}